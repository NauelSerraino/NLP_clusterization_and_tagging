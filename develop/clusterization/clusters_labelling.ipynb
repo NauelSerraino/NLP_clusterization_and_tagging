{
 "cells": [
  {
   "cell_type": "code",
   "execution_count": 57,
   "metadata": {},
   "outputs": [],
   "source": [
    "from collections import Counter\n",
    "from nltk.corpus import wordnet\n",
    "from cluster_separation import cluster_separator_from_txt_file, read_cluster_file, create_clusters\n",
    "import os\n",
    "import re\n",
    "import importlib\n",
    "# importlib.reload(cluster_separator_from_txt_file)"
   ]
  },
  {
   "cell_type": "code",
   "execution_count": null,
   "metadata": {},
   "outputs": [],
   "source": [
    "def create_clusters(file_path):\n",
    "    with open(file_path, 'r') as f:\n",
    "        lines = f.readlines()\n",
    "\n",
    "    clusters = []\n",
    "    for line in lines:\n",
    "        cluster = line.strip().replace('\"', \"\").replace('[', \"\").replace(']', \"\").replace(\"'\", \"\").split(',')\n",
    "        if \"Cluster\" not in cluster[0]:\n",
    "            cluster = [word.strip() for word in cluster] \n",
    "            clusters.append(cluster)\n",
    "\n",
    "    return clusters"
   ]
  },
  {
   "cell_type": "code",
   "execution_count": 167,
   "metadata": {},
   "outputs": [],
   "source": [
    "def get_most_common_hypernym(clusters):\n",
    "    labels = []\n",
    "    for cluster in clusters:\n",
    "        hypernyms = []\n",
    "        for word in cluster:\n",
    "            synsets = wordnet.synsets(word)\n",
    "            if not synsets:\n",
    "                continue\n",
    "            word_hypernyms = set()\n",
    "            for synset in synsets:\n",
    "                for path in synset.hypernym_paths():\n",
    "                    word_hypernyms.update(path)\n",
    "            word_hypernyms.discard(synset.lexname() for synset in synsets)\n",
    "            if word_hypernyms:\n",
    "                word_hypernym_counts = {h.name().split('.')[0]: 0 for h in word_hypernyms}\n",
    "                for h in word_hypernyms:\n",
    "                    if h.name().split('.')[0] in ['entity', 'physical_entity', 'person', 'whole', 'organism']:\n",
    "                        continue\n",
    "                    word_hypernym_counts[h.name().split('.')[0]] += 1\n",
    "                most_common = max(word_hypernym_counts, key=word_hypernym_counts.get)\n",
    "                hypernyms.append(most_common)\n",
    "            else:\n",
    "                hypernyms.append(\"unknown_hypernym\")\n",
    "        if hypernyms:\n",
    "            labels.append(max(set(hypernyms), key=hypernyms.count))\n",
    "        else:\n",
    "            labels.append(\"unknown_cluster\")\n",
    "    return labels\n"
   ]
  },
  {
   "cell_type": "code",
   "execution_count": null,
   "metadata": {},
   "outputs": [],
   "source": [
    "def write_labels_to_file(labels, path_to_file):\n",
    "    with open(path_to_file, 'r') as f:\n",
    "        lines = f.readlines()\n",
    "\n",
    "    current_cluster = 0\n",
    "    for i, line in enumerate(lines):\n",
    "        if line.startswith(\"Cluster \"):\n",
    "            current_cluster += 1\n",
    "            lines[i] = f\"{line.strip()} ({labels[current_cluster-1]})\\n\"\n",
    "    \n",
    "    with open(path_to_file, 'w') as f:\n",
    "        f.writelines(lines)\n"
   ]
  },
  {
   "cell_type": "code",
   "execution_count": 157,
   "metadata": {},
   "outputs": [],
   "source": [
    "HOME_PATH = r\"C:\\Users\\Nauel\\Desktop\\Lavoro UNI\"\n",
    "n_clusters = [5, 8, 10, 15, 20, 80, 100, 125, 150, 175, 200, 250, 300]\n",
    "PATH_INPUT = os.path.join(HOME_PATH, \"cluster_loop_clean\", \"definitions\", \"Clusters con 80 gruppi & definizioni.txt\")\n",
    "PATH_OUTPUT = os.path.join(HOME_PATH, \"cluster_loop_clean\", \"labels\", \"Clusters con 80 gruppi & definizioni.txt\")\n"
   ]
  },
  {
   "cell_type": "code",
   "execution_count": 168,
   "metadata": {},
   "outputs": [],
   "source": [
    "for n_cluster in n_clusters:\n",
    "    PATH_INPUT = os.path.join(HOME_PATH, \"cluster_loop_clean\", \"definitions\", f\"Clusters con {n_cluster} gruppi & definizioni.txt\")\n",
    "    PATH_OUTPUT = os.path.join(HOME_PATH, \"cluster_loop_clean\", \"labels\", f\"Clusters con {n_cluster} gruppi & definizioni.txt\")\n",
    "    clusters = create_clusters(PATH_INPUT)\n",
    "    labels = get_most_common_hypernym(clusters)\n",
    "    write_labels_to_file(labels, PATH_OUTPUT)\n"
   ]
  },
  {
   "cell_type": "code",
   "execution_count": null,
   "metadata": {},
   "outputs": [],
   "source": []
  }
 ],
 "metadata": {
  "kernelspec": {
   "display_name": "Python 3",
   "language": "python",
   "name": "python3"
  },
  "language_info": {
   "codemirror_mode": {
    "name": "ipython",
    "version": 3
   },
   "file_extension": ".py",
   "mimetype": "text/x-python",
   "name": "python",
   "nbconvert_exporter": "python",
   "pygments_lexer": "ipython3",
   "version": "3.9.10"
  },
  "orig_nbformat": 4,
  "vscode": {
   "interpreter": {
    "hash": "f46ce1e9f86266199c0d76baff9f68961607da6dc69ecc7d2e8972faaca65561"
   }
  }
 },
 "nbformat": 4,
 "nbformat_minor": 2
}
