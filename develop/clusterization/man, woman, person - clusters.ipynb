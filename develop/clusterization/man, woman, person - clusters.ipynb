{
 "cells": [
  {
   "cell_type": "code",
   "execution_count": 12,
   "metadata": {},
   "outputs": [
    {
     "name": "stderr",
     "output_type": "stream",
     "text": [
      "[nltk_data] Downloading package gutenberg to\n",
      "[nltk_data]     C:\\Users\\Nauel\\AppData\\Roaming\\nltk_data...\n",
      "[nltk_data]   Package gutenberg is already up-to-date!\n",
      "[nltk_data] Downloading package genesis to\n",
      "[nltk_data]     C:\\Users\\Nauel\\AppData\\Roaming\\nltk_data...\n",
      "[nltk_data]   Package genesis is already up-to-date!\n",
      "[nltk_data] Downloading package inaugural to\n",
      "[nltk_data]     C:\\Users\\Nauel\\AppData\\Roaming\\nltk_data...\n",
      "[nltk_data]   Package inaugural is already up-to-date!\n",
      "[nltk_data] Downloading package nps_chat to\n",
      "[nltk_data]     C:\\Users\\Nauel\\AppData\\Roaming\\nltk_data...\n",
      "[nltk_data]   Package nps_chat is already up-to-date!\n",
      "[nltk_data] Downloading package webtext to\n",
      "[nltk_data]     C:\\Users\\Nauel\\AppData\\Roaming\\nltk_data...\n",
      "[nltk_data]   Package webtext is already up-to-date!\n",
      "[nltk_data] Downloading package treebank to\n",
      "[nltk_data]     C:\\Users\\Nauel\\AppData\\Roaming\\nltk_data...\n",
      "[nltk_data]   Package treebank is already up-to-date!\n"
     ]
    },
    {
     "name": "stdout",
     "output_type": "stream",
     "text": [
      "   ship captain   ocean   storm \n",
      "    518     329      81      32 \n",
      "ship\n"
     ]
    }
   ],
   "source": [
    "import nltk\n",
    "nltk.download('gutenberg')\n",
    "nltk.download('genesis')\n",
    "nltk.download('inaugural')\n",
    "nltk.download('nps_chat')\n",
    "nltk.download('webtext')\n",
    "nltk.download('treebank')\n",
    "from nltk.probability import FreqDist\n",
    "from nltk.book import text1\n",
    "from nltk.corpus import stopwords\n",
    "\n",
    "# create a list of words to search for\n",
    "words_to_search = ['ship', 'ocean', 'storm', 'captain']\n",
    "\n",
    "# create a set of stopwords\n",
    "stop_words = set(stopwords.words('english'))\n",
    "\n",
    "# calculate the frequency distribution of the non-stopwords in the list\n",
    "freq_dist = FreqDist(word.lower() for word in text1 if word.lower() not in stop_words and word.lower() in words_to_search)\n",
    "freq_dist.tabulate(10)\n",
    "\n",
    "# choose the most frequent word as the representative word\n",
    "representative_word = freq_dist.most_common(1)[0][0]\n",
    "\n",
    "print(representative_word) "
   ]
  }
 ],
 "metadata": {
  "kernelspec": {
   "display_name": "Python 3",
   "language": "python",
   "name": "python3"
  },
  "language_info": {
   "codemirror_mode": {
    "name": "ipython",
    "version": 3
   },
   "file_extension": ".py",
   "mimetype": "text/x-python",
   "name": "python",
   "nbconvert_exporter": "python",
   "pygments_lexer": "ipython3",
   "version": "3.9.10"
  },
  "orig_nbformat": 4,
  "vscode": {
   "interpreter": {
    "hash": "f46ce1e9f86266199c0d76baff9f68961607da6dc69ecc7d2e8972faaca65561"
   }
  }
 },
 "nbformat": 4,
 "nbformat_minor": 2
}
